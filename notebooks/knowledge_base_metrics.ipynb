{
 "cells": [
  {
   "metadata": {},
   "cell_type": "markdown",
   "source": "# Imports",
   "id": "f60f6b0c83e075bc"
  },
  {
   "cell_type": "code",
   "id": "initial_id",
   "metadata": {
    "collapsed": true,
    "ExecuteTime": {
     "end_time": "2024-04-20T21:07:36.402105Z",
     "start_time": "2024-04-20T21:07:36.396664Z"
    }
   },
   "source": "%cd ..",
   "outputs": [
    {
     "name": "stdout",
     "output_type": "stream",
     "text": [
      "/Users/sophiayeremeeva/Desktop/uni/ukma/thesis/diploma/code/NeuroKG\n"
     ]
    },
    {
     "name": "stderr",
     "output_type": "stream",
     "text": [
      "/opt/homebrew/lib/python3.11/site-packages/IPython/core/magics/osm.py:417: UserWarning: using dhist requires you to install the `pickleshare` library.\n",
      "  self.shell.db['dhist'] = compress_dhist(dhist)[-100:]\n"
     ]
    }
   ],
   "execution_count": 1
  },
  {
   "metadata": {
    "ExecuteTime": {
     "end_time": "2024-04-20T21:07:37.440260Z",
     "start_time": "2024-04-20T21:07:36.403325Z"
    }
   },
   "cell_type": "code",
   "source": "from database.cypher_queries import get_graph_diameter, count_nodes",
   "id": "b38ecb6e5a53616f",
   "outputs": [],
   "execution_count": 2
  },
  {
   "metadata": {},
   "cell_type": "markdown",
   "source": "#### Number of Nodes and Edges",
   "id": "55e3f451c8ceeec5"
  },
  {
   "metadata": {
    "ExecuteTime": {
     "end_time": "2024-04-20T21:07:37.469325Z",
     "start_time": "2024-04-20T21:07:37.441088Z"
    }
   },
   "cell_type": "code",
   "source": "nodes = count_nodes()",
   "id": "c23f486af82094c2",
   "outputs": [],
   "execution_count": 3
  },
  {
   "metadata": {
    "ExecuteTime": {
     "end_time": "2024-04-20T21:07:37.472128Z",
     "start_time": "2024-04-20T21:07:37.470143Z"
    }
   },
   "cell_type": "code",
   "source": "print(f'Total number of the nodes in the knowledge base is {nodes}.')",
   "id": "e6c646fb483902a8",
   "outputs": [
    {
     "name": "stdout",
     "output_type": "stream",
     "text": [
      "Total number of the nodes in the knowledge base is 473.\n"
     ]
    }
   ],
   "execution_count": 4
  },
  {
   "metadata": {},
   "cell_type": "markdown",
   "source": "#### Diameter",
   "id": "dbc85309bd856f8"
  },
  {
   "metadata": {
    "ExecuteTime": {
     "end_time": "2024-04-20T21:07:38.125949Z",
     "start_time": "2024-04-20T21:07:37.473983Z"
    }
   },
   "cell_type": "code",
   "source": "diameter = get_graph_diameter()",
   "id": "9ac2c39df562dfb2",
   "outputs": [],
   "execution_count": 5
  },
  {
   "metadata": {
    "ExecuteTime": {
     "end_time": "2024-04-20T21:07:38.132014Z",
     "start_time": "2024-04-20T21:07:38.127266Z"
    }
   },
   "cell_type": "code",
   "source": "print(f'The diameter of the knowledge base is {diameter} edges.')",
   "id": "1b386c3b67b9ab6e",
   "outputs": [
    {
     "name": "stdout",
     "output_type": "stream",
     "text": [
      "The diameter of the knowledge base is 13 edges.\n"
     ]
    }
   ],
   "execution_count": 6
  },
  {
   "metadata": {
    "ExecuteTime": {
     "end_time": "2024-04-20T21:07:38.134831Z",
     "start_time": "2024-04-20T21:07:38.133149Z"
    }
   },
   "cell_type": "code",
   "source": "",
   "id": "e2ee89731a886faa",
   "outputs": [],
   "execution_count": 6
  }
 ],
 "metadata": {
  "kernelspec": {
   "display_name": "Python 3",
   "language": "python",
   "name": "python3"
  },
  "language_info": {
   "codemirror_mode": {
    "name": "ipython",
    "version": 2
   },
   "file_extension": ".py",
   "mimetype": "text/x-python",
   "name": "python",
   "nbconvert_exporter": "python",
   "pygments_lexer": "ipython2",
   "version": "2.7.6"
  }
 },
 "nbformat": 4,
 "nbformat_minor": 5
}
